{
 "metadata": {
  "name": ""
 },
 "nbformat": 3,
 "nbformat_minor": 0,
 "worksheets": [
  {
   "cells": [
    {
     "cell_type": "markdown",
     "metadata": {},
     "source": [
      "### Lambda Functions ###\n",
      "\n",
      "(anonymous functions)\n",
      "from Lisp & functional programming"
     ]
    },
    {
     "cell_type": "code",
     "collapsed": false,
     "input": [
      "tmp = lambda x: x**2\n",
      "print  type(tmp)"
     ],
     "language": "python",
     "metadata": {},
     "outputs": [
      {
       "output_type": "stream",
       "stream": "stdout",
       "text": [
        "<type 'function'>"
       ]
      }
     ],
     "prompt_number": 2
    },
    {
     "cell_type": "code",
     "collapsed": false,
     "input": [
      "tmp(2)"
     ],
     "language": "python",
     "metadata": {},
     "outputs": [
      {
       "output_type": "pyout",
       "prompt_number": 3,
       "text": [
        "4"
       ]
      }
     ],
     "prompt_number": 3
    },
    {
     "cell_type": "code",
     "collapsed": false,
     "input": [
      "# forget about creating a new function name...just do it!\n",
      "(lambda x,y: x**2+y)(2,4.5)"
     ],
     "language": "python",
     "metadata": {},
     "outputs": [
      {
       "output_type": "pyout",
       "prompt_number": 9,
       "text": [
        "8.5"
       ]
      }
     ],
     "prompt_number": 9
    },
    {
     "cell_type": "code",
     "collapsed": false,
     "input": [
      "## create a list of lambda functions\n",
      "lamfun = [lambda x: x**2, lambda x: x**3, \\\n",
      "           lambda y: math.sqrt(y) if y >= 0 else \"Really? I mean really? %f\" % y]"
     ],
     "language": "python",
     "metadata": {},
     "outputs": [],
     "prompt_number": 10
    },
    {
     "cell_type": "code",
     "collapsed": false,
     "input": [
      "for l in lamfun: print l(-1.3)"
     ],
     "language": "python",
     "metadata": {},
     "outputs": [
      {
       "output_type": "stream",
       "stream": "stdout",
       "text": [
        "1.69\n",
        "-2.197\n",
        "Really? I mean really? -1.300000"
       ]
      }
     ],
     "prompt_number": 11
    },
    {
     "cell_type": "markdown",
     "metadata": {},
     "source": [
      "lambda functions are meant to be short, one liners. If you need more complex functions, probably better just to name them"
     ]
    },
    {
     "cell_type": "markdown",
     "metadata": {},
     "source": [
      "[back]\n",
      "### Filter is a certain way to do list comprehension ###\n",
      "\n",
      "filter(function, sequence)\" returns a sequence consisting of those items from the sequence for which function(item) is true"
     ]
    },
    {
     "cell_type": "code",
     "collapsed": false,
     "input": [
      "mylist=[num for num in range(101) if (num & 2) and (num & 1) and (num % 11 != 0.0)]\n",
      "print mylist"
     ],
     "language": "python",
     "metadata": {},
     "outputs": [
      {
       "output_type": "stream",
       "stream": "stdout",
       "text": [
        "[3, 7, 15, 19, 23, 27, 31, 35, 39, 43, 47, 51, 59, 63, 67, 71, 75, 79, 83, 87, 91, 95]"
       ]
      }
     ],
     "prompt_number": 14
    },
    {
     "cell_type": "code",
     "collapsed": false,
     "input": [
      "def f(num): return (num & 2) and (num & 1) and (num % 11 != 0.0)\n",
      "mylist = filter(f,xrange(101))\n",
      "print mylist"
     ],
     "language": "python",
     "metadata": {},
     "outputs": [
      {
       "output_type": "stream",
       "stream": "stdout",
       "text": [
        "[3, 7, 15, 19, 23, 27, 31, 35, 39, 43, 47, 51, 59, 63, 67, 71, 75, 79, 83, 87, 91, 95]"
       ]
      }
     ],
     "prompt_number": 16
    },
    {
     "cell_type": "markdown",
     "metadata": {},
     "source": [
      "if the input is a string, so is the output..."
     ]
    },
    {
     "cell_type": "code",
     "collapsed": false,
     "input": [
      "## also works on strings...try it with lambdas!\n",
      "import string\n",
      "a=\"Charlie Brown said \\\"!@!@$@!\\\"\"\n",
      "filter(lambda c: c in string.ascii_letters,a)"
     ],
     "language": "python",
     "metadata": {},
     "outputs": [
      {
       "output_type": "pyout",
       "prompt_number": 19,
       "text": [
        "'CharlieBrownsaid'"
       ]
      }
     ],
     "prompt_number": 19
    },
    {
     "cell_type": "code",
     "collapsed": false,
     "input": [
      "filter(lambda num: (num & 2) and (num & 1) and (num % 11 != 0.0),xrange(101))"
     ],
     "language": "python",
     "metadata": {},
     "outputs": [
      {
       "output_type": "pyout",
       "prompt_number": 20,
       "text": [
        "[3,\n",
        " 7,\n",
        " 15,\n",
        " 19,\n",
        " 23,\n",
        " 27,\n",
        " 31,\n",
        " 35,\n",
        " 39,\n",
        " 43,\n",
        " 47,\n",
        " 51,\n",
        " 59,\n",
        " 63,\n",
        " 67,\n",
        " 71,\n",
        " 75,\n",
        " 79,\n",
        " 83,\n",
        " 87,\n",
        " 91,\n",
        " 95]"
       ]
      }
     ],
     "prompt_number": 20
    },
    {
     "cell_type": "markdown",
     "metadata": {},
     "source": [
      "[back]\n",
      "### Map is just another way to do list comprehension ###"
     ]
    },
    {
     "cell_type": "code",
     "collapsed": false,
     "input": [
      "def cube_it(x): return x**3\n",
      "map(cube_it,xrange(1,10))"
     ],
     "language": "python",
     "metadata": {},
     "outputs": [
      {
       "output_type": "pyout",
       "prompt_number": 21,
       "text": [
        "[1, 8, 27, 64, 125, 216, 343, 512, 729]"
       ]
      }
     ],
     "prompt_number": 21
    },
    {
     "cell_type": "code",
     "collapsed": false,
     "input": [
      "map(lambda x: x**3, xrange(1,10))"
     ],
     "language": "python",
     "metadata": {},
     "outputs": [
      {
       "output_type": "pyout",
       "prompt_number": 22,
       "text": [
        "[1, 8, 27, 64, 125, 216, 343, 512, 729]"
       ]
      }
     ],
     "prompt_number": 22
    },
    {
     "cell_type": "markdown",
     "metadata": {},
     "source": [
      "### Reduce returns one value ###\n",
      "\n",
      "reduce(function, sequence) returns a single value constructed by calling the binary function function on the first two items of the sequence, then on the result and the next item, and so on"
     ]
    },
    {
     "cell_type": "code",
     "collapsed": false,
     "input": [
      "# sum from 1 to 10\n",
      "reduce(lambda x,y: x + y, xrange(1,11))   \n",
      "%timeit reduce(lambda x,y: x + y, xrange(1,11))"
     ],
     "language": "python",
     "metadata": {},
     "outputs": [
      {
       "output_type": "stream",
       "stream": "stdout",
       "text": [
        "1000000 loops, best of 3: 1.56 us per loop"
       ]
      }
     ],
     "prompt_number": 23
    },
    {
     "cell_type": "code",
     "collapsed": false,
     "input": [
      "# sum() is a built in function...it\u2019s bound to be faster\n",
      "%timeit sum(xrange(1,11))"
     ],
     "language": "python",
     "metadata": {},
     "outputs": [
      {
       "output_type": "stream",
       "stream": "stdout",
       "text": [
        "1000000 loops, best of 3: 478 ns per loop"
       ]
      }
     ],
     "prompt_number": 24
    },
    {
     "cell_type": "markdown",
     "metadata": {},
     "source": [
      "###  `zip()` ###\n",
      "\n",
      "built in function to pairwise concatenate items in iterables into a list of tuples"
     ]
    },
    {
     "cell_type": "code",
     "collapsed": false,
     "input": [
      "zip([\"I\",\"you\",\"them\"],[\"=spam\",\"=eggs\",\"=dark knights\"])"
     ],
     "language": "python",
     "metadata": {},
     "outputs": [
      {
       "output_type": "pyout",
       "prompt_number": 25,
       "text": [
        "[('I', '=spam'), ('you', '=eggs'), ('them', '=dark knights')]"
       ]
      }
     ],
     "prompt_number": 25
    },
    {
     "cell_type": "code",
     "collapsed": false,
     "input": [
      "zip([\"I\",\"you\",\"them\"],[\"=spam\",\"=eggs\",\"=dark knights\"],[\"!\",\"?\",\"#\"])"
     ],
     "language": "python",
     "metadata": {},
     "outputs": [
      {
       "output_type": "pyout",
       "prompt_number": 26,
       "text": [
        "[('I', '=spam', '!'), ('you', '=eggs', '?'), ('them', '=dark knights', '#')]"
       ]
      }
     ],
     "prompt_number": 26
    },
    {
     "cell_type": "code",
     "collapsed": false,
     "input": [
      "zip([\"I\",\"you\",\"them\"],[\"=spam\",\"=eggs\",\"=dark knights\"],[\"!\",\"?\"])"
     ],
     "language": "python",
     "metadata": {},
     "outputs": [
      {
       "output_type": "pyout",
       "prompt_number": 27,
       "text": [
        "[('I', '=spam', '!'), ('you', '=eggs', '?')]"
       ]
      }
     ],
     "prompt_number": 27
    },
    {
     "cell_type": "code",
     "collapsed": false,
     "input": [
      "questions = ['name', 'quest', 'favorite color']\n",
      "answers = ['lancelot', 'the holy grail', 'blue']\n",
      "for q, a in zip(questions, answers):\n",
      "  print 'What is your %s?  It is %s.' % (q, a)"
     ],
     "language": "python",
     "metadata": {},
     "outputs": [
      {
       "output_type": "stream",
       "stream": "stdout",
       "text": [
        "What is your name?  It is lancelot.\n",
        "What is your quest?  It is the holy grail.\n",
        "What is your favorite color?  It is blue."
       ]
      }
     ],
     "prompt_number": 30
    },
    {
     "cell_type": "markdown",
     "metadata": {},
     "source": [
      "not to be confused with `zipfile` module which exposes file compression "
     ]
    },
    {
     "cell_type": "code",
     "collapsed": true,
     "input": [],
     "language": "python",
     "metadata": {},
     "outputs": []
    }
   ],
   "metadata": {}
  }
 ]
}